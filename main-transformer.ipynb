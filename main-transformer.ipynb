{
 "cells": [
  {
   "cell_type": "code",
   "execution_count": 1,
   "metadata": {},
   "outputs": [],
   "source": [
    "import argparse\n",
    "import copy, json, os\n",
    "\n",
    "import torch\n",
    "from torch import nn, optim\n",
    "#from tensorboardX import SummaryWriter\n",
    "from time import gmtime, strftime\n",
    "\n",
    "from model.transformer import BiDAF\n",
    "from model.data import SQuAD\n",
    "from model.ema import EMA\n",
    "import evaluate\n",
    "from tqdm import tqdm_notebook"
   ]
  },
  {
   "cell_type": "code",
   "execution_count": 2,
   "metadata": {},
   "outputs": [
    {
     "name": "stdout",
     "output_type": "stream",
     "text": [
      "preprocessing data files...\n",
      "loading splits...\n",
      "building vocab...\n",
      "building iterators...\n"
     ]
    }
   ],
   "source": [
    "train_file = 'train-v1.1.json'\n",
    "dev_file = 'dev-v1.1.json'\n",
    "prediction_file = 'prediction.json'\n",
    "path_to_data = './data'\n",
    "MAX_VOCAB = 10000\n",
    "NUM_SAMPLES_TRAIN = 30\n",
    "NUM_SAMPLES_DEV = 10\n",
    "TRAIN_BATCH_SIZE = 3\n",
    "DEV_BATCH_SIZE = 10\n",
    "\n",
    "\n",
    "data = SQuAD(path_to_data, train_file, dev_file, \n",
    "             MAX_VOCAB, NUM_SAMPLES_TRAIN, NUM_SAMPLES_DEV,\n",
    "            TRAIN_BATCH_SIZE, DEV_BATCH_SIZE, glove_tokens = '6B')"
   ]
  },
  {
   "cell_type": "code",
   "execution_count": 3,
   "metadata": {},
   "outputs": [],
   "source": [
    "import math\n",
    "device = torch.device(\"cuda:0\" if torch.cuda.is_available() else \"cpu\")\n",
    "model = BiDAF(len(data.CHAR.vocab),len(data.WORD.vocab), data.WORD.vocab.vectors, char_channel_size = 100, word_dim = 100, hidden_size = 96, dropout_rate = 0.05).to(device)\n",
    "parameters = filter(lambda p: p.requires_grad, model.parameters())\n",
    "\n",
    "lr = 0.001\n",
    "lr_warm_up_num = 1000\n",
    "\n",
    "optimizer = optim.Adam(parameters, lr = lr)\n",
    "\n",
    "cr = lr / math.log2(lr_warm_up_num)\n",
    "scheduler = optim.lr_scheduler.LambdaLR(\n",
    "    optimizer,\n",
    "    lr_lambda=lambda ee: cr * math.log2(ee + 1) if ee < lr_warm_up_num else lr)\n",
    "\n",
    "\n",
    "criterion = nn.CrossEntropyLoss()\n",
    "model.train()\n",
    "loss, last_epoch = 0, -1\n",
    "max_dev_exact, max_dev_f1 = -1, -1\n",
    "NUM_EPOCHS = 12\n",
    "validation_frequency = 1000\n",
    "iterator = data.train_iter"
   ]
  },
  {
   "cell_type": "code",
   "execution_count": 4,
   "metadata": {},
   "outputs": [
    {
     "data": {
      "text/plain": [
       "1394937"
      ]
     },
     "execution_count": 4,
     "metadata": {},
     "output_type": "execute_result"
    }
   ],
   "source": [
    "def count_parameters(model):\n",
    "    return sum(p.numel() for p in model.parameters() if p.requires_grad)\n",
    "count_parameters(model)"
   ]
  },
  {
   "cell_type": "markdown",
   "metadata": {},
   "source": [
    "for x in data.dev_iter:\n",
    "    p1, p2 = model(x)"
   ]
  },
  {
   "cell_type": "code",
   "execution_count": 5,
   "metadata": {},
   "outputs": [],
   "source": [
    "def test(model, prediction_file, data):\n",
    "    device = torch.device(\"cuda:0\" if torch.cuda.is_available() else \"cpu\")\n",
    "    criterion = nn.CrossEntropyLoss()\n",
    "    loss = 0\n",
    "    answers = dict()\n",
    "    model.eval()\n",
    "    print('Validating.....')\n",
    "    with torch.set_grad_enabled(False):\n",
    "        for batch in tqdm_notebook(iter(data.dev_iter), total = len(data.dev_iter)):\n",
    "            p1, p2 = model(batch)\n",
    "            batch_loss = criterion(p1, batch.s_idx) + criterion(p2, batch.e_idx)\n",
    "            loss += batch_loss.item()\n",
    "\n",
    "            # (batch, c_len, c_len)\n",
    "            batch_size, c_len = p1.size()\n",
    "            ls = nn.LogSoftmax(dim=1)\n",
    "            mask = (torch.ones(c_len, c_len) * float('-inf')).to(device).tril(-1).unsqueeze(0).expand(batch_size, -1, -1)\n",
    "            score = (ls(p1).unsqueeze(2) + ls(p2).unsqueeze(1)) + mask\n",
    "            score, s_idx = score.max(dim=1)\n",
    "            score, e_idx = score.max(dim=1)\n",
    "            s_idx = torch.gather(s_idx, 1, e_idx.view(-1, 1)).squeeze()\n",
    "\n",
    "            for i in range(batch_size):\n",
    "                id = batch.id[i]\n",
    "                answer = batch.c_word[0][i][s_idx[i]:e_idx[i]+1]\n",
    "                answer = ' '.join([data.WORD.vocab.itos[idx] for idx in answer])\n",
    "                answers[id] = answer\n",
    "\n",
    "    with open(prediction_file, 'w', encoding='utf-8') as f:\n",
    "        print(json.dumps(answers), file=f)\n",
    "\n",
    "    results = evaluate.main(path_to_data + '/' + dev_file, prediction_file)\n",
    "    return loss/len(data.dev_iter), results['exact_match'], results['f1']"
   ]
  },
  {
   "cell_type": "code",
   "execution_count": null,
   "metadata": {},
   "outputs": [
    {
     "name": "stdout",
     "output_type": "stream",
     "text": [
      "Epoch: 1\n"
     ]
    },
    {
     "data": {
      "application/vnd.jupyter.widget-view+json": {
       "model_id": "b4d69c6b7f2c4752a7f4af498a57970c",
       "version_major": 2,
       "version_minor": 0
      },
      "text/plain": [
       "HBox(children=(IntProgress(value=0, max=3339), HTML(value='')))"
      ]
     },
     "metadata": {},
     "output_type": "display_data"
    },
    {
     "name": "stdout",
     "output_type": "stream",
     "text": [
      "Validating.....\n"
     ]
    },
    {
     "data": {
      "application/vnd.jupyter.widget-view+json": {
       "model_id": "3e3729c780584896aeb02966feac281f",
       "version_major": 2,
       "version_minor": 0
      },
      "text/plain": [
       "HBox(children=(IntProgress(value=0, max=911), HTML(value='')))"
      ]
     },
     "metadata": {},
     "output_type": "display_data"
    },
    {
     "name": "stdout",
     "output_type": "stream",
     "text": [
      "\n",
      "train loss:  11.960 | dev loss:  10.868 | dev EM: 0.028 | dev F1: 1.565\n",
      "Saving model....\n",
      "Validating.....\n"
     ]
    },
    {
     "data": {
      "application/vnd.jupyter.widget-view+json": {
       "model_id": "a7bd4102e68d4fd1a9327c19d7fd4922",
       "version_major": 2,
       "version_minor": 0
      },
      "text/plain": [
       "HBox(children=(IntProgress(value=0, max=911), HTML(value='')))"
      ]
     },
     "metadata": {},
     "output_type": "display_data"
    }
   ],
   "source": [
    "accumulation_steps = 10\n",
    "\n",
    "for epoch in range(NUM_EPOCHS):\n",
    "    print('Epoch:', epoch + 1)\n",
    "    for i, batch in tqdm_notebook(enumerate(iterator), total = len(iterator)):\n",
    "\n",
    "        p1, p2 = model(batch)\n",
    "\n",
    "        optimizer.zero_grad()\n",
    "        batch_loss = criterion(p1, batch.s_idx) + criterion(p2, batch.e_idx)\n",
    "        loss += batch_loss.item()\n",
    "        batch_loss = batch_loss / accumulation_steps\n",
    "        batch_loss.backward()\n",
    "        \n",
    "        if (i+1) % accumulation_steps == 0:\n",
    "            optimizer.step()\n",
    "            optimizer.zero_grad()\n",
    "            torch.nn.utils.clip_grad_norm_(model.parameters(), 5.0)\n",
    "\n",
    "\n",
    "\n",
    "        if (i + 1) % validation_frequency == 0:\n",
    "            loss /= validation_frequency\n",
    "            dev_loss, dev_exact, dev_f1 = test(model, prediction_file, data)\n",
    "\n",
    "            print('train loss:  {:.3f} | dev loss:  {:.3f} | dev EM: {:.3f} | dev F1: {:.3f}'.format(loss, dev_loss, dev_exact, dev_f1))\n",
    "            loss = 0\n",
    "            \n",
    "            if dev_f1 > max_dev_f1:\n",
    "                print('Saving model....')\n",
    "                max_dev_f1 = dev_f1\n",
    "                max_dev_exact = dev_exact\n",
    "                if not os.path.exists('saved_models'):\n",
    "                    os.makedirs('saved_models')\n",
    "                torch.save(model.state_dict(), 'saved_models/BiDAF_best_model.pt')\n",
    "\n",
    "                \n",
    "            model.train()\n"
   ]
  },
  {
   "cell_type": "code",
   "execution_count": null,
   "metadata": {},
   "outputs": [],
   "source": []
  }
 ],
 "metadata": {
  "kernelspec": {
   "display_name": "Python 3",
   "language": "python",
   "name": "python3"
  },
  "language_info": {
   "codemirror_mode": {
    "name": "ipython",
    "version": 3
   },
   "file_extension": ".py",
   "mimetype": "text/x-python",
   "name": "python",
   "nbconvert_exporter": "python",
   "pygments_lexer": "ipython3",
   "version": "3.7.3"
  }
 },
 "nbformat": 4,
 "nbformat_minor": 4
}
